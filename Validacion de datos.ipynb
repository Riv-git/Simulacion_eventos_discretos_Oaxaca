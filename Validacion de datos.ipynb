{
 "cells": [
  {
   "cell_type": "markdown",
   "id": "5948331f",
   "metadata": {},
   "source": [
    "<h3 style=\"font-size:3rem ;color: orange; \">Codigo de Python Parcial De Simulacion 2</h3>"
   ]
  },
  {
   "cell_type": "markdown",
   "id": "f6c2fc44",
   "metadata": {},
   "source": [
    "# Intervalo de confianza"
   ]
  },
  {
   "cell_type": "code",
   "execution_count": null,
   "id": "e5266939",
   "metadata": {},
   "outputs": [],
   "source": [
    "reales 11:05"
   ]
  },
  {
   "cell_type": "code",
   "execution_count": 14,
   "id": "01d5e293",
   "metadata": {},
   "outputs": [
    {
     "name": "stdout",
     "output_type": "stream",
     "text": [
      "The average of the array is: 39.0\n",
      "The error of the array is: 14.428807164505187\n",
      "The 95% confidence interval for the data is (32.68, 45.32)\n"
     ]
    }
   ],
   "source": [
    "import math\n",
    "from typing import List\n",
    "import numpy as np\n",
    "\n",
    "#media + errores o min y max\n",
    "\n",
    "def confidence_interval(data: List[float], confidence_level: float) -> tuple[float, float]:  \n",
    "    n = len(data)\n",
    "    mean = sum(data) / n\n",
    "    std_dev = math.sqrt(sum([(x - mean) ** 2 for x in data]) / (n - 1))\n",
    "    z = get_z_score(confidence_level\n",
    "    margin_of_error = z * std_dev / math.sqrt(n)\n",
    "    lower_bound = mean - margin_of_error\n",
    "    upper_bound = mean + margin_of_error\n",
    "    return lower_bound, upper_bound\n",
    "\n",
    "def get_z_score(confidence_level: float) -> float: \n",
    "    if confidence_level == 0.90:\n",
    "        return 1.645\n",
    "    elif confidence_level == 0.95:\n",
    "        return 1.96\n",
    "    elif confidence_level == 0.99:\n",
    "        return 2.576\n",
    "    else:\n",
    "        raise ValueError(\"Invalid confidence level. Valid values are 0.90, 0.95, and 0.99.\")\n",
    "\n",
    "# Example usage:\n",
    "#Datos \n",
    "#Datos tiempo plato fuerte\n",
    "data = [32, 43, 26, 20, 30, 37, 31, 43, 45, 51, 54, 10, 59, 35, 12, 44, 58, 58, 28, 56, 47]\n",
    "#Datos tiempo entrada\n",
    "data=[11, 7, 19, 11, 33, 11, 12, 10, 20, 23, 24, 16, 26, 16]\n",
    "confidence_level = 0.95\n",
    "lower_bound, upper_bound = confidence_interval(data, confidence_level)\n",
    "# Calculate the mean (average) of the array\n",
    "average = np.mean(data)\n",
    "\n",
    "# Calculate the error (standard deviation) of the array\n",
    "error = np.std(data)\n",
    "\n",
    "# Print the results\n",
    "print(\"The average of the array is:\", average)\n",
    "print(\"The error of the array is:\", error)\n",
    "\n",
    "print(f\"The {confidence_level*100:.0f}% confidence interval for the data is ({lower_bound:.2f}, {upper_bound:.2f})\")\n"
   ]
  },
  {
   "cell_type": "code",
   "execution_count": null,
   "id": "86e63310",
   "metadata": {},
   "outputs": [],
   "source": []
  },
  {
   "cell_type": "code",
   "execution_count": 13,
   "id": "55d6f15d",
   "metadata": {},
   "outputs": [
    {
     "name": "stdout",
     "output_type": "stream",
     "text": [
      "The 95% confidence interval for the data is (69.06, 86.09)\n"
     ]
    }
   ],
   "source": []
  },
  {
   "cell_type": "code",
   "execution_count": null,
   "id": "6c8fae0e",
   "metadata": {},
   "outputs": [],
   "source": []
  },
  {
   "cell_type": "code",
   "execution_count": 14,
   "id": "03fe125c",
   "metadata": {},
   "outputs": [
    {
     "name": "stdout",
     "output_type": "stream",
     "text": [
      "The 95% confidence interval for the data is (169.38, 191.69)\n"
     ]
    }
   ],
   "source": []
  },
  {
   "cell_type": "code",
   "execution_count": null,
   "id": "ed1dbacd",
   "metadata": {},
   "outputs": [],
   "source": []
  },
  {
   "cell_type": "code",
   "execution_count": 15,
   "id": "2a490077",
   "metadata": {},
   "outputs": [
    {
     "name": "stdout",
     "output_type": "stream",
     "text": [
      "The 95% confidence interval for the data is (112.27, 124.39)\n"
     ]
    }
   ],
   "source": []
  },
  {
   "cell_type": "code",
   "execution_count": null,
   "id": "620d34e3",
   "metadata": {},
   "outputs": [],
   "source": []
  }
 ],
 "metadata": {
  "kernelspec": {
   "display_name": "Python 3 (ipykernel)",
   "language": "python",
   "name": "python3"
  },
  "language_info": {
   "codemirror_mode": {
    "name": "ipython",
    "version": 3
   },
   "file_extension": ".py",
   "mimetype": "text/x-python",
   "name": "python",
   "nbconvert_exporter": "python",
   "pygments_lexer": "ipython3",
   "version": "3.9.12"
  }
 },
 "nbformat": 4,
 "nbformat_minor": 5
}
