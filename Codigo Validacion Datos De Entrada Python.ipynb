{
 "cells": [
  {
   "cell_type": "code",
   "execution_count": null,
   "metadata": {},
   "outputs": [],
   "source": [
    "import numpy as np\n",
    "import pandas as pd\n",
    "from template import *"
   ]
  },
  {
   "cell_type": "code",
   "execution_count": null,
   "metadata": {},
   "outputs": [],
   "source": [
    "### HINT ON UNIT TESTS ###\n",
    "### All unit tests assume that itemsets are ordered lexicographically.\n",
    "### An itemset [B, A] is NOT valid! It must be [A, B]! This convention allows extreme speed up."
   ]
  },
  {
   "cell_type": "markdown",
   "metadata": {},
   "source": [
    "**Correlacion**"
   ]
  },
  {
   "cell_type": "code",
   "execution_count": null,
   "metadata": {},
   "outputs": [],
   "source": [
    "import numpy as np\n",
    "from scipy. stats import pearsonr\n",
    "#Cambiar los datos por los datos de la simulacion para obtener resultados similares\n",
    "x= np. array([0, 0, 0])\n",
    "y= np.array ([0, 0, 0])\n",
    "#Covarianza\n",
    "covariance = np.cov (x, y) [0][1]\n",
    "print (\"Covarianza:\", covariance)\n",
    "#Correlacion\n",
    "corr, p_value = pearsonr (x, y)\n",
    "print (\"Coeficiente de Correlación de Pearson: corr)\n",
    "#print (\"Valor p: \", p_value)\n",
    "# Ajuste de modelo de regresión lineal\n",
    "coefficients = np.polyfit (x, Y, 1)\n",
    "m = coefficients [0]\n",
    "b = coefficients[1]\n",
    "trendline = np. polyld (coefficients)\n",
    "# Gráfico de dispersión con línea de tendencia\n",
    "plt.plot(x, Y r 'ro')\n",
    "plt. plot (x, trendline(x), 'b-')\n",
    "plt.xlabel('x')\n",
    "plt.ylabel('y')\n",
    "plt. title( 'Gráfico de dispersión con línea de tendencia')\n",
    "plt. show( )"
   ]
  },
  {
   "cell_type": "markdown",
   "metadata": {},
   "source": [
    "**Auto-correlacion**"
   ]
  },
  {
   "cell_type": "code",
   "execution_count": null,
   "metadata": {},
   "outputs": [],
   "source": [
    "import matplotlib.pyplot as plt\n",
    "# Datos\n",
    "import numpy as np\n",
    "X [5.5, 7, 9.5, 5.5, 8.25, 5.5, 6, 10, 10, 11.5, 24, 5.333333333, 26, 3.2]\n",
    "\n",
    "# Promedio de los datos\n",
    "promedio = sum(x) / len(x)\n",
    "# Calculamos el error para cada dato\n",
    "errores = [dato - promedio for dato in x]\n",
    "# Graficamos los errores y los datos\n",
    "plt.plot (errores)\n",
    "plt.xlabel('Datos')\n",
    "plt.ylabel('Error')\n",
    "plt. title ('Tendencia del error de los datos estimado de tiempo por cada plato entrada')\n",
    "plt. show()\n",
    "print( \"suma de errores: \", sum (errores))"
   ]
  },
  {
   "cell_type": "markdown",
   "metadata": {},
   "source": [
    "**Auto-correlograma**"
   ]
  },
  {
   "cell_type": "code",
   "execution_count": null,
   "metadata": {},
   "outputs": [],
   "source": [
    "import numpy as np\n",
    "import matplotlib.pyplot as plt\n",
    "# Creamos la señal de ejemplo\n",
    "= np. array((5.5, 7, 9.5, 5.5, 8.25, 5.5, 6, 10, 10, 11.5, 24, 5.333333333, 26, 3.2])\n",
    "# Calculamos la media de la señal\n",
    "x mean = np. mean (x)\n",
    "# Definimos el valor máximo de retraso permitido\n",
    "max_lag = 8\n",
    "# Calculamos el autocorrelograma de la señal\n",
    "n = len(x)\n",
    "autocorr = np.zeros (max_ lag+1)\n",
    "for k in range (max_lag+1):\n",
    "    numerator = np. sum((x[:n-k] x mean) * (x[k: n] x mean))\n",
    "    denominator np. sum( (x x mean) **2)\n",
    "    autocorr[k] numerator / denominator\n",
    "# Normalizamos el autocorrelograma\n",
    "autocorr /= np.max(autocorr)\n",
    "# Calculamos los límites superior e inferior\n",
    "sigma = 1/np. sqrt (n)\n",
    "lim = 2 * sigma\n",
    "# Creamos un eje X para la gráfica\n",
    "lags = np. arange(max_lag+1)\n",
    "# Graficamos el autocorrelograma\n",
    "plt.stem(lags, autocorr)\n",
    "plt. title(' Autocorrelograma de estimado de tiempo por cada plato entrada')\n",
    "plt. xlabel (' Retraso')\n",
    "Iplt. ylabel ('Coeficiente de correlación')\n",
    "plt. axhline(y=lim, color='r', linestyle='-')\n",
    "plt. axhline(y=-lim, color='r', linestyle='-'\n",
    "plt. show()"
   ]
  }
 ],
 "metadata": {
  "kernelspec": {
   "display_name": "Python 3 (ipykernel)",
   "language": "python",
   "name": "python3"
  },
  "language_info": {
   "codemirror_mode": {
    "name": "ipython",
    "version": 3
   },
   "file_extension": ".py",
   "mimetype": "text/x-python",
   "name": "python",
   "nbconvert_exporter": "python",
   "pygments_lexer": "ipython3",
   "version": "3.9.12"
  }
 },
 "nbformat": 4,
 "nbformat_minor": 4
}
